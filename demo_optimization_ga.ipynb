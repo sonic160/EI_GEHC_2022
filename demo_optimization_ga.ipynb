{
 "cells": [
  {
   "cell_type": "markdown",
   "metadata": {},
   "source": [
    "In this notebook, we demonstrate how to solve an optimization problem using genetic algorithm. For basic introduction of genetic algorithm, you can consult to: https://towardsdatascience.com/an-illustrated-guide-to-genetic-algorithm-ec5615c9ebe\n",
    "\n",
    "We use an open-source library for this: https://pypi.org/project/geneticalgorithm/\n",
    "\n",
    "Let us consider the following optimization problem:\n",
    "\n",
    "$\\min f(x) = x_1+x_2+x_3$\n",
    "\n",
    "$.5\\le x_1 \\le 1.5$\n",
    "\n",
    "$1\\le x_2 \\le 100$\n",
    "\n",
    "$x_3\\in [0,1]$"
   ]
  },
  {
   "cell_type": "markdown",
   "metadata": {},
   "source": [
    "First install and import packages:"
   ]
  },
  {
   "cell_type": "code",
   "execution_count": 1,
   "metadata": {},
   "outputs": [
    {
     "name": "stdout",
     "output_type": "stream",
     "text": [
      "Collecting geneticalgorithm\n",
      "  Downloading geneticalgorithm-1.0.2-py3-none-any.whl (16 kB)\n",
      "Collecting func-timeout\n",
      "  Downloading func_timeout-4.3.5.tar.gz (44 kB)\n",
      "Requirement already satisfied: numpy in c:\\users\\zhiguo\\appdata\\local\\programs\\python\\python38\\lib\\site-packages (from geneticalgorithm) (1.19.5)\n",
      "Building wheels for collected packages: func-timeout\n",
      "  Building wheel for func-timeout (setup.py): started\n",
      "  Building wheel for func-timeout (setup.py): finished with status 'done'\n",
      "  Created wheel for func-timeout: filename=func_timeout-4.3.5-py3-none-any.whl size=15077 sha256=c97647186b3684d78693f1063dd902c29ee99fd7382de824089fd20037c74199\n",
      "  Stored in directory: c:\\users\\zhiguo\\appdata\\local\\pip\\cache\\wheels\\a8\\92\\ca\\5bbab358275e310af23b73fc32ebf37d6a7a08c87c8d2cdbc1\n",
      "Successfully built func-timeout\n",
      "Installing collected packages: func-timeout, geneticalgorithm\n",
      "Successfully installed func-timeout-4.3.5 geneticalgorithm-1.0.2\n"
     ]
    },
    {
     "name": "stderr",
     "output_type": "stream",
     "text": [
      "WARNING: You are using pip version 21.1.2; however, version 22.1.2 is available.\n",
      "You should consider upgrading via the 'c:\\users\\zhiguo\\appdata\\local\\programs\\python\\python38\\python.exe -m pip install --upgrade pip' command.\n"
     ]
    }
   ],
   "source": [
    "! pip install geneticalgorithm"
   ]
  },
  {
   "cell_type": "code",
   "execution_count": 2,
   "metadata": {},
   "outputs": [
    {
     "name": "stdout",
     "output_type": "stream",
     "text": [
      " The best solution found:                                                                           \n",
      " [0.50024501 1.00224731 0.        ]\n",
      "\n",
      " Objective function:\n",
      " 1.5024923223694813\n"
     ]
    },
    {
     "data": {
      "image/png": "[encoded data removed]",
      "text/plain": [
       "<Figure size 432x288 with 1 Axes>"
      ]
     },
     "metadata": {
      "needs_background": "light"
     },
     "output_type": "display_data"
    }
   ],
   "source": [
    "import numpy as np\n",
    "from geneticalgorithm import geneticalgorithm as ga\n",
    "\n",
    "# Define the objective function.\n",
    "def f(X):\n",
    "    return np.sum(X)\n",
    "\n",
    "# Define the boundary for the decision variables.\n",
    "varbound = np.array([[0.5,1.5],[1,100],[0,1]])\n",
    "\n",
    "# Define the type of the variables: x_1, x_2 are real, x_3 is binary.\n",
    "vartype=np.array([['real'], ['real'] , ['int']])\n",
    "\n",
    "# Define the optimization model.\n",
    "model = ga(function=f,dimension=3,variable_type_mixed=vartype,variable_boundaries=varbound)\n",
    "\n",
    "# Run the model.\n",
    "model.run()"
   ]
  },
  {
   "cell_type": "markdown",
   "metadata": {},
   "source": [
    "You can also add constraint by adding penalty to the objective function. See the documentation page: https://pypi.org/project/geneticalgorithm/"
   ]
  }
 ],
 "metadata": {
  "interpreter": {
   "hash": "1e4347efc9525cc332960ef81a08601dc32726a1c4f3143eac4c61d078948a8b"
  },
  "kernelspec": {
   "display_name": "Python 3.8.6 64-bit",
   "language": "python",
   "name": "python3"
  },
  "language_info": {
   "codemirror_mode": {
    "name": "ipython",
    "version": 3
   },
   "file_extension": ".py",
   "mimetype": "text/x-python",
   "name": "python",
   "nbconvert_exporter": "python",
   "pygments_lexer": "ipython3",
   "version": "3.8.6"
  },
  "orig_nbformat": 4
 },
 "nbformat": 4,
 "nbformat_minor": 2
}
